{
 "cells": [
  {
   "cell_type": "markdown",
   "metadata": {},
   "source": [
    "# 计算理论集卡成功比列"
   ]
  },
  {
   "cell_type": "code",
   "execution_count": 168,
   "metadata": {},
   "outputs": [],
   "source": [
    "from sympy import *"
   ]
  },
  {
   "cell_type": "code",
   "execution_count": 169,
   "metadata": {},
   "outputs": [
    {
     "data": {
      "text/latex": [
       "$\\displaystyle m^{- n} \\sum_{i=0}^{m} \\left(-1\\right)^{i} \\left(- i + m\\right)^{n} {\\binom{m}{i}}$"
      ],
      "text/plain": [
       "m**(-n)*Sum((-1)**i*(-i + m)**n*binomial(m, i), (i, 0, m))"
      ]
     },
     "execution_count": 169,
     "metadata": {},
     "output_type": "execute_result"
    }
   ],
   "source": [
    "# 定义i\n",
    "i = Symbol('i')\n",
    "n = Symbol('n')\n",
    "m = Symbol('m')\n",
    "# 计算P(n, m) 显示公式\n",
    "P_n_m = summation((-1)**i * binomial(m, i) * (m - i)**n, (i, 0, m)) / (m ** n)\n",
    "P_n_m"
   ]
  },
  {
   "cell_type": "code",
   "execution_count": 171,
   "metadata": {},
   "outputs": [
    {
     "data": {
      "text/latex": [
       "$\\displaystyle \\frac{1008}{3125}$"
      ],
      "text/plain": [
       "1008/3125"
      ]
     },
     "execution_count": 171,
     "metadata": {},
     "output_type": "execute_result"
    }
   ],
   "source": [
    "# 集卡成功人数比列\n",
    "m = 5\n",
    "n = 8\n",
    "P_n_m = summation((-1)**i * binomial(m, i) * (m - i)**n, (i, 0, m)) / (m ** n)\n",
    "P_n_m"
   ]
  },
  {
   "cell_type": "code",
   "execution_count": 172,
   "metadata": {},
   "outputs": [
    {
     "data": {
      "text/plain": [
       "0.32256"
      ]
     },
     "execution_count": 172,
     "metadata": {},
     "output_type": "execute_result"
    }
   ],
   "source": [
    "float(P_n_m)"
   ]
  },
  {
   "cell_type": "code",
   "execution_count": 139,
   "metadata": {
    "scrolled": true
   },
   "outputs": [
    {
     "data": {
      "text/plain": [
       "18.15"
      ]
     },
     "execution_count": 139,
     "metadata": {},
     "output_type": "execute_result"
    }
   ],
   "source": [
    "# 个人集齐卡片的期望次数，对主办方用处不大\n",
    "m = 7\n",
    "Em = m * summation(1/i, (i, 1, m))\n",
    "float(Em)"
   ]
  },
  {
   "cell_type": "markdown",
   "metadata": {},
   "source": [
    "# 模拟抽卡统计"
   ]
  },
  {
   "cell_type": "code",
   "execution_count": 10,
   "metadata": {},
   "outputs": [],
   "source": [
    "import numpy\n",
    "import random\n",
    "import matplotlib.pyplot as plt"
   ]
  },
  {
   "cell_type": "code",
   "execution_count": 173,
   "metadata": {},
   "outputs": [],
   "source": [
    "# 发卡程序，这里简单的返回1-m的随机数,这个地方可以使用真正的发卡程序\n",
    "def lottery(m):\n",
    "    return random.randint(1, m)"
   ]
  },
  {
   "cell_type": "code",
   "execution_count": 174,
   "metadata": {},
   "outputs": [],
   "source": [
    "# 模拟一个人集卡，集齐后返回刮卡次数\n",
    "def hit(m, n):\n",
    "    # 设置m张初始卡片都是0\n",
    "    card = [0 for i in range(m)]\n",
    "    count = 0\n",
    "    # 为了方便模拟设置了最大刮卡次数n，当达到最大次数后不再抽奖直接返回count\n",
    "    while count < n:\n",
    "        c = lottery(m)\n",
    "        # 将抽中的卡片对应记录设置为0\n",
    "        card[c-1] = 1\n",
    "        count += 1\n",
    "        # 当m张卡片都是集齐后返回刮奖次数\n",
    "        if numpy.sum(card) == m:\n",
    "            return 'succ', count\n",
    "    return 'fail', count"
   ]
  },
  {
   "cell_type": "code",
   "execution_count": 175,
   "metadata": {},
   "outputs": [],
   "source": [
    "# 绘制分布曲线 感觉这个图没有啥意义不直观\n",
    "def show(data, m, n, peoples, succ_percent, current_time):\n",
    "    x = [x for x in range(n + 1)]\n",
    "    y = data\n",
    "    plt.plot(x, y)\n",
    "    plt.xticks(x)\n",
    "    plt.title('{} peoples hit cards'.format(peoples))\n",
    "    plt.xlabel('succeed hit numbers')\n",
    "    plt.ylabel(\"probability distribution\")\n",
    "    plt.savefig('./模拟{}人集{}张卡每人最多抽{}次：{:.2%}人集齐{}.png'.format(peoples, m, n,\n",
    "                                                             succ_percent, current_time), dpi=150)\n",
    "    plt.show()"
   ]
  },
  {
   "cell_type": "code",
   "execution_count": 176,
   "metadata": {},
   "outputs": [],
   "source": [
    "# 输出统计结果表格\n",
    "def save_excle(res_succ, m, n, peoples, current_time):\n",
    "    df_res_succ = pd.DataFrame()\n",
    "    df_res_succ['成功时的抽卡次数'] = [x for x in range(n + 1)]\n",
    "    df_res_succ['成功集齐人数'] = res_succ\n",
    "    third_column_name = '占总抽卡人数({})的比列'.format(peoples)\n",
    "    df_res_succ[third_column_name] = df_res_succ['成功集齐人数'] / peoples\n",
    "    succ_percent = df_res_succ[third_column_name].sum()\n",
    "    df_res_succ.to_excel('./模拟{}人集{}张卡每人最多抽{}次：{:.2%}人集齐{}.xlsx'.format(peoples, m, n,\n",
    "                                                                       succ_percent, current_time), index=False)\n",
    "    return succ_percent"
   ]
  },
  {
   "cell_type": "code",
   "execution_count": 178,
   "metadata": {},
   "outputs": [
    {
     "name": "stdout",
     "output_type": "stream",
     "text": [
      "成功集卡人数比列：32.32%\n"
     ]
    },
    {
     "data": {
      "image/png": "[encoded data removed]",
      "text/plain": [
       "<Figure size 432x288 with 1 Axes>"
      ]
     },
     "metadata": {
      "needs_background": "light"
     },
     "output_type": "display_data"
    },
    {
     "name": "stdout",
     "output_type": "stream",
     "text": [
      "CPU times: user 1min 9s, sys: 110 ms, total: 1min 9s\n",
      "Wall time: 1min 10s\n"
     ]
    }
   ],
   "source": [
    "%%time\n",
    "# m 为卡片数\n",
    "m = 5\n",
    "# 最大刮卡次数n\n",
    "n = 8\n",
    "res_succ = [0 for x in range(n + 1)]\n",
    "# peoples为模拟抽奖人数\n",
    "peoples = 1000000  # 极客时间大概10万人参加活动\n",
    "for i in range(peoples):\n",
    "    res, c = hit(m, n)\n",
    "    if res == 'succ':\n",
    "        res_succ[c] = res_succ[c]+1\n",
    "# current_time 当前时间\n",
    "current_time = time.strftime('%Y-%m-%d_%H：%M：%S', time.localtime(time.time()))\n",
    "succ_percent = save_excle(res_succ, m, n, peoples, current_time)\n",
    "print('成功集卡人数比列：{:.2%}'.format(succ_percent))\n",
    "show(numpy.array(res_succ)/peoples, m, n, peoples, succ_percent, current_time)"
   ]
  }
 ],
 "metadata": {
  "kernelspec": {
   "display_name": "Python 3",
   "language": "python",
   "name": "python3"
  },
  "language_info": {
   "codemirror_mode": {
    "name": "ipython",
    "version": 3
   },
   "file_extension": ".py",
   "mimetype": "text/x-python",
   "name": "python",
   "nbconvert_exporter": "python",
   "pygments_lexer": "ipython3",
   "version": "3.6.8"
  },
  "toc": {
   "base_numbering": 1,
   "nav_menu": {},
   "number_sections": true,
   "sideBar": true,
   "skip_h1_title": false,
   "title_cell": "Table of Contents",
   "title_sidebar": "Contents",
   "toc_cell": false,
   "toc_position": {},
   "toc_section_display": true,
   "toc_window_display": true
  }
 },
 "nbformat": 4,
 "nbformat_minor": 4
}
